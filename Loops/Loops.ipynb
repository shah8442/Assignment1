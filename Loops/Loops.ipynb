{
 "cells": [
  {
   "cell_type": "raw",
   "id": "378219d4-2f81-485d-a033-d0feec04b58a",
   "metadata": {},
   "source": [
    "1. Print numbers from 1 to 5 using a while loop."
   ]
  },
  {
   "cell_type": "code",
   "execution_count": null,
   "id": "2578c8c6-3eb6-42ee-a21c-877b94c15483",
   "metadata": {},
   "outputs": [],
   "source": [
    "n = 6\n",
    "i = 1\n",
    "while i < n:\n",
    "    print(i)\n",
    "    i = i + 1"
   ]
  },
  {
   "cell_type": "raw",
   "id": "e9858861-2ae5-436a-9009-d5a7015da973",
   "metadata": {},
   "source": [
    "2. Calculate the sum of numbers from 1 to 10 using a while loop."
   ]
  },
  {
   "cell_type": "code",
   "execution_count": 13,
   "id": "003941c9-e631-419e-8bd8-31c5e928159c",
   "metadata": {
    "tags": []
   },
   "outputs": [
    {
     "name": "stdout",
     "output_type": "stream",
     "text": [
      "55\n"
     ]
    }
   ],
   "source": [
    "sum = 0\n",
    "num = 10\n",
    "\n",
    "while num > 0:\n",
    "    sum += num\n",
    "    num -= 1\n",
    "print(sum)"
   ]
  },
  {
   "cell_type": "raw",
   "id": "e3fc2cef-e31b-4c9f-98c2-6fb1afb760b4",
   "metadata": {},
   "source": [
    "3. Calclate the factorial of a number using for loop."
   ]
  },
  {
   "cell_type": "code",
   "execution_count": 30,
   "id": "15ece6fa-07dc-4ff2-ad8d-db70f8e9bd38",
   "metadata": {},
   "outputs": [
    {
     "name": "stdout",
     "output_type": "stream",
     "text": [
      "1\n",
      "2\n",
      "6\n",
      "24\n",
      "120\n"
     ]
    }
   ],
   "source": [
    "num = 5\n",
    "factorial = 1 \n",
    "\n",
    "for i in range(1, num + 1): \n",
    "    factorial = factorial * i \n",
    "    print(factorial)"
   ]
  },
  {
   "cell_type": "raw",
   "id": "2d4807bf-90f9-48cb-bf98-9dbc00323a9a",
   "metadata": {},
   "source": [
    "4. Count the number of vowels in a string using a for loop."
   ]
  },
  {
   "cell_type": "code",
   "execution_count": 2,
   "id": "de6317ed-796e-401e-9374-e29e04aa29a8",
   "metadata": {},
   "outputs": [
    {
     "name": "stdout",
     "output_type": "stream",
     "text": [
      "3\n"
     ]
    }
   ],
   "source": [
    "\n",
    "\n",
    "word = \"ajay_pwskills\"\n",
    "count = 0\n",
    "vowel = set('aeiou')\n",
    "\n",
    "for i in word:\n",
    "    if i in vowel:\n",
    "        count = count + 1\n",
    "print(count)\n"
   ]
  },
  {
   "cell_type": "raw",
   "id": "f4acbbd6-0b5b-4302-8d9b-da352533f79d",
   "metadata": {},
   "source": [
    "5. Print a pattern using nested loop"
   ]
  },
  {
   "cell_type": "code",
   "execution_count": 3,
   "id": "6385551c-8d2b-4cb2-b2b2-fb98173f00d9",
   "metadata": {},
   "outputs": [
    {
     "name": "stdout",
     "output_type": "stream",
     "text": [
      "*\n",
      "**\n",
      "***\n",
      "****\n"
     ]
    }
   ],
   "source": [
    "row = 1\n",
    "while row <= 4:\n",
    "    col = 1\n",
    "    while col<= row:\n",
    "        print(\"*\", end = \"\")\n",
    "        col = col + 1\n",
    "    print()\n",
    "    row = row + 1"
   ]
  },
  {
   "cell_type": "code",
   "execution_count": 4,
   "id": "37507ea7-e235-403a-a07f-4ccd8a27eb5d",
   "metadata": {},
   "outputs": [
    {
     "name": "stdout",
     "output_type": "stream",
     "text": [
      "^ \n",
      "^ ^ \n",
      "^ ^ ^ \n",
      "^ ^ ^ ^ \n"
     ]
    }
   ],
   "source": [
    "row = 1\n",
    "while row <= 4:\n",
    "    col = 1\n",
    "    while col<= row:\n",
    "        print(\"^\", end = \" \")\n",
    "        col = col + 1\n",
    "    print()\n",
    "    row = row + 1"
   ]
  },
  {
   "cell_type": "code",
   "execution_count": 5,
   "id": "ff3d8678-8f79-4491-872e-79d3dd8d31ab",
   "metadata": {},
   "outputs": [
    {
     "name": "stdout",
     "output_type": "stream",
     "text": [
      " ^ \n",
      " ^  ^ \n",
      " ^  ^  ^ \n",
      " ^  ^  ^  ^ \n",
      " ^  ^  ^  ^  ^ \n",
      " ^  ^  ^  ^  ^  ^ \n",
      " ^  ^  ^  ^  ^  ^  ^ \n",
      " ^  ^  ^  ^  ^  ^  ^  ^ \n"
     ]
    }
   ],
   "source": [
    "p = 1\n",
    "while p <= 8:\n",
    "    col = 1\n",
    "    while col <= p:\n",
    "        col = col + 1\n",
    "        print(\" ^ \", end='')\n",
    "    print()\n",
    "    p = p + 1"
   ]
  },
  {
   "cell_type": "code",
   "execution_count": 16,
   "id": "16859f85-cea9-4b47-b6df-7cf8db96650a",
   "metadata": {},
   "outputs": [
    {
     "name": "stdout",
     "output_type": "stream",
     "text": [
      "* \n",
      "* * \n",
      "* * * \n",
      "* * * * \n",
      "* * * * * \n"
     ]
    }
   ],
   "source": [
    "rows = 5\n",
    "# outer loop\n",
    "for i in range(1, rows + 1):\n",
    "    # inner loop\n",
    "    for j in range(1, i + 1):\n",
    "        print(\"*\", end=\" \")\n",
    "    print('')"
   ]
  },
  {
   "cell_type": "raw",
   "id": "7edfdf76-bf14-4ae7-b547-870c54bfacb8",
   "metadata": {},
   "source": [
    "6. Generate a multiplication table ing nested loop."
   ]
  },
  {
   "cell_type": "code",
   "execution_count": 24,
   "id": "e9d86a20-0bf1-4a63-a61d-b23a482918cc",
   "metadata": {},
   "outputs": [
    {
     "name": "stdout",
     "output_type": "stream",
     "text": [
      " 1  2  3  4  5  6  7  8  9 10 \n",
      "\n",
      " 2  4  6  8 10 12 14 16 18 20 \n",
      "\n",
      " 3  6  9 12 15 18 21 24 27 30 \n",
      "\n",
      " 4  8 12 16 20 24 28 32 36 40 \n",
      "\n",
      " 5 10 15 20 25 30 35 40 45 50 \n",
      "\n"
     ]
    }
   ],
   "source": [
    "rows=5 # Multiplication table up to 10 \n",
    "columns=10 # Number of columns\n",
    "# rows,columns=10,10  \n",
    "for i in range(1,rows+1):\n",
    "    for j in range(1,columns+1):# inner for loop\n",
    "        c=i*j\n",
    "        print(\"{:2d} \".format(c),end='')\n",
    "    print(\"\\n\")  # line break"
   ]
  },
  {
   "cell_type": "code",
   "execution_count": null,
   "id": "1dcae8df-43db-43e1-a9a0-55c542aca153",
   "metadata": {},
   "outputs": [],
   "source": []
  },
  {
   "cell_type": "code",
   "execution_count": null,
   "id": "6b30521c-a5ce-4000-9552-ab98c07c2fb9",
   "metadata": {},
   "outputs": [],
   "source": []
  },
  {
   "cell_type": "code",
   "execution_count": null,
   "id": "701138fb-2da7-4dfe-8e1e-0173977106e3",
   "metadata": {},
   "outputs": [],
   "source": []
  },
  {
   "cell_type": "code",
   "execution_count": null,
   "id": "c3b35da1-8fe0-495a-848c-d903e056da36",
   "metadata": {},
   "outputs": [],
   "source": []
  },
  {
   "cell_type": "code",
   "execution_count": null,
   "id": "2f632cbc-e28d-41a5-a67c-0f73f0515cf9",
   "metadata": {},
   "outputs": [],
   "source": []
  },
  {
   "cell_type": "code",
   "execution_count": null,
   "id": "9c73a000-63a8-4c70-967b-79c59643fb5e",
   "metadata": {},
   "outputs": [],
   "source": []
  },
  {
   "cell_type": "code",
   "execution_count": null,
   "id": "78223b03-e5d2-40cc-bc83-62259cc883ad",
   "metadata": {},
   "outputs": [],
   "source": []
  },
  {
   "cell_type": "code",
   "execution_count": null,
   "id": "660491e6-b27f-4015-b4cd-85e363a8f0fc",
   "metadata": {},
   "outputs": [],
   "source": []
  },
  {
   "cell_type": "code",
   "execution_count": null,
   "id": "f8a7ef58-f419-4586-b717-536edb427eb3",
   "metadata": {},
   "outputs": [],
   "source": []
  },
  {
   "cell_type": "code",
   "execution_count": null,
   "id": "028d6b80-00d1-438b-8b7b-f6e820a274dc",
   "metadata": {},
   "outputs": [],
   "source": []
  },
  {
   "cell_type": "code",
   "execution_count": null,
   "id": "057e981c-6612-44a7-a938-f4f12e71494e",
   "metadata": {},
   "outputs": [],
   "source": []
  },
  {
   "cell_type": "code",
   "execution_count": null,
   "id": "e7907a15-3c89-404f-b3f8-23dfb6e8e607",
   "metadata": {},
   "outputs": [],
   "source": []
  },
  {
   "cell_type": "code",
   "execution_count": null,
   "id": "055a92e1-facd-4341-a6a0-2d3ec9917db4",
   "metadata": {},
   "outputs": [],
   "source": []
  },
  {
   "cell_type": "code",
   "execution_count": null,
   "id": "a6153b5e-ba5a-42f4-af6c-9fb1c901dd45",
   "metadata": {},
   "outputs": [],
   "source": []
  },
  {
   "cell_type": "code",
   "execution_count": null,
   "id": "9aef57b6-f89d-4ac2-b7a9-5329d61f291e",
   "metadata": {},
   "outputs": [],
   "source": []
  },
  {
   "cell_type": "code",
   "execution_count": null,
   "id": "bbd80eba-dc57-4c9d-8a87-c138a9278b15",
   "metadata": {},
   "outputs": [],
   "source": []
  },
  {
   "cell_type": "code",
   "execution_count": null,
   "id": "4a6e0480-bd72-4939-b62f-1954fef8b195",
   "metadata": {},
   "outputs": [],
   "source": []
  },
  {
   "cell_type": "code",
   "execution_count": null,
   "id": "04da50e9-9bdd-4617-abc1-f4cf59114f6a",
   "metadata": {},
   "outputs": [],
   "source": []
  },
  {
   "cell_type": "code",
   "execution_count": null,
   "id": "f7c71409-1d8a-4de9-bddb-df5cf1c4f63f",
   "metadata": {},
   "outputs": [],
   "source": []
  },
  {
   "cell_type": "code",
   "execution_count": null,
   "id": "26d96fd0-7a46-4f74-936f-db5dd4332032",
   "metadata": {},
   "outputs": [],
   "source": []
  },
  {
   "cell_type": "code",
   "execution_count": null,
   "id": "9106c999-66b0-4e66-b09d-3e6cd5c21feb",
   "metadata": {},
   "outputs": [],
   "source": []
  },
  {
   "cell_type": "code",
   "execution_count": null,
   "id": "590aa886-fb2a-4894-981d-62e46128cb9d",
   "metadata": {},
   "outputs": [],
   "source": []
  },
  {
   "cell_type": "code",
   "execution_count": null,
   "id": "6d0a413c-f0cb-4fe6-a0ba-c0efbb8c8e50",
   "metadata": {},
   "outputs": [],
   "source": []
  },
  {
   "cell_type": "code",
   "execution_count": null,
   "id": "55e283cd-dfe9-4f06-8aa7-b41fc7a629a3",
   "metadata": {},
   "outputs": [],
   "source": []
  },
  {
   "cell_type": "code",
   "execution_count": null,
   "id": "abe98b76-5f8a-4909-bf59-2cdd4764862c",
   "metadata": {},
   "outputs": [],
   "source": []
  },
  {
   "cell_type": "code",
   "execution_count": null,
   "id": "800c0798-af27-4406-89cb-5e13e483e0b2",
   "metadata": {},
   "outputs": [],
   "source": []
  },
  {
   "cell_type": "code",
   "execution_count": null,
   "id": "2727b9d9-d887-4de7-bb8f-77c6a2746d0f",
   "metadata": {},
   "outputs": [],
   "source": []
  },
  {
   "cell_type": "code",
   "execution_count": null,
   "id": "80400b55-2661-43b1-a1b0-6385cb27dcd9",
   "metadata": {},
   "outputs": [],
   "source": []
  },
  {
   "cell_type": "code",
   "execution_count": null,
   "id": "2025a621-8c30-49ef-9eee-a867d6d77d9b",
   "metadata": {},
   "outputs": [],
   "source": []
  },
  {
   "cell_type": "code",
   "execution_count": null,
   "id": "4f28a0cb-921f-4bb7-85a2-74efc52600e6",
   "metadata": {},
   "outputs": [],
   "source": []
  },
  {
   "cell_type": "code",
   "execution_count": null,
   "id": "9cbd481b-3e80-4f82-a8f1-c199a37f48b7",
   "metadata": {},
   "outputs": [],
   "source": []
  },
  {
   "cell_type": "code",
   "execution_count": null,
   "id": "d63df8cf-f895-40be-bb70-a9c03856debd",
   "metadata": {},
   "outputs": [],
   "source": [
    "\n"
   ]
  },
  {
   "cell_type": "code",
   "execution_count": null,
   "id": "b926372d-7856-4da6-bef7-d83e72beb6df",
   "metadata": {},
   "outputs": [],
   "source": []
  },
  {
   "cell_type": "code",
   "execution_count": null,
   "id": "bc3fc4c7-61a2-4ba6-8908-fdf30cbc1a3d",
   "metadata": {},
   "outputs": [],
   "source": []
  },
  {
   "cell_type": "code",
   "execution_count": null,
   "id": "009c0389-29e5-460d-94ef-a212a07080d8",
   "metadata": {},
   "outputs": [],
   "source": []
  },
  {
   "cell_type": "code",
   "execution_count": null,
   "id": "6c610979-d7bd-4905-b296-b3b4397442de",
   "metadata": {},
   "outputs": [],
   "source": []
  },
  {
   "cell_type": "code",
   "execution_count": null,
   "id": "a0717f08-e129-4351-95cb-a7bf0893fc29",
   "metadata": {},
   "outputs": [],
   "source": []
  },
  {
   "cell_type": "code",
   "execution_count": null,
   "id": "1190d79a-93f8-4235-86fd-4d55d4aec7cf",
   "metadata": {},
   "outputs": [],
   "source": []
  },
  {
   "cell_type": "code",
   "execution_count": null,
   "id": "1577795d-606f-40ca-8740-aa352dffe49a",
   "metadata": {},
   "outputs": [],
   "source": []
  },
  {
   "cell_type": "code",
   "execution_count": null,
   "id": "a75ee326-94be-4e06-b163-2661da9e0b66",
   "metadata": {},
   "outputs": [],
   "source": []
  },
  {
   "cell_type": "code",
   "execution_count": null,
   "id": "3c840848-2971-4708-aee6-962f8de400b9",
   "metadata": {},
   "outputs": [],
   "source": []
  },
  {
   "cell_type": "code",
   "execution_count": null,
   "id": "d9bc0484-bf4d-47de-b4e4-b47192e068d1",
   "metadata": {},
   "outputs": [],
   "source": []
  },
  {
   "cell_type": "code",
   "execution_count": null,
   "id": "314d45cf-0c33-4795-b46e-ac3c549c037e",
   "metadata": {},
   "outputs": [],
   "source": []
  },
  {
   "cell_type": "code",
   "execution_count": null,
   "id": "4464ab8a-d631-4fc8-91c9-c833c77abcea",
   "metadata": {},
   "outputs": [],
   "source": []
  },
  {
   "cell_type": "code",
   "execution_count": null,
   "id": "c458a16c-7989-4f14-8f73-fb7be054e416",
   "metadata": {},
   "outputs": [],
   "source": []
  },
  {
   "cell_type": "code",
   "execution_count": null,
   "id": "880b34b8-7b40-4e1f-bd49-aa1bcac71d92",
   "metadata": {},
   "outputs": [],
   "source": []
  },
  {
   "cell_type": "code",
   "execution_count": null,
   "id": "6ca9fbb4-6af5-42e1-b44b-2fceec75f80f",
   "metadata": {},
   "outputs": [],
   "source": []
  }
 ],
 "metadata": {
  "kernelspec": {
   "display_name": "Python 3 (ipykernel)",
   "language": "python",
   "name": "python3"
  },
  "language_info": {
   "codemirror_mode": {
    "name": "ipython",
    "version": 3
   },
   "file_extension": ".py",
   "mimetype": "text/x-python",
   "name": "python",
   "nbconvert_exporter": "python",
   "pygments_lexer": "ipython3",
   "version": "3.10.8"
  }
 },
 "nbformat": 4,
 "nbformat_minor": 5
}
