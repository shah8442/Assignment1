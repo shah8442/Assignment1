{
 "cells": [
  {
   "cell_type": "raw",
   "id": "d121bf8e-2c84-4df5-ac1f-e5793efd2cd0",
   "metadata": {},
   "source": [
    "Que : Explain the significance of Python keywords and provide examples of five keywords\n",
    "\n",
    "Ans : \n",
    "    \n",
    "Python keywords are essential components of the Python programming language. These keywords cannot be used as identifiers (variable names, function names, etc.)\n",
    "\n",
    "break\t->  To break out of a loop\n",
    "continue -> To continue the next iteration of a loop\n",
    "if    ->  To make a conditional statement\n",
    "elif  ->  Used in conditional statements\n",
    "else  ->  Used in conditional statements\n",
    "False ->  Boolean value"
   ]
  },
  {
   "cell_type": "raw",
   "id": "c9d2de16-0984-450c-aec0-da117f27312b",
   "metadata": {},
   "source": [
    "Que: Describe the rules for defining identifiers in Python and provide an example\n",
    "\n",
    "Ans: \n",
    " \n",
    " -> Rules must be followed when writing a Python identifier.\n",
    "\n",
    "1) Keywords cannot be used as identifier names as they are reserved words in Python programming language. If you try, it will throw Syntax Error.\n",
    "\n",
    "2) Python identifiers can contain letters in a small case (a-z), upper case (A-Z), digits (0-9), and underscore (_).\n",
    "\n",
    "3) Identifiers cannot begin with a digit. For example, 10test would be an invalid identifier.\n",
    "\n",
    "4) Python identifiers can’t contain only digits. For example, 888 would be an invalid identifier.\n",
    "\n",
    "5) Python identifier names can start with an underscore. So, the _test would be a valid identifier.\n",
    "\n",
    "6) There is no limit on the length of the identifier name. \n",
    "\n",
    "7) Python identifier names are case-sensitive. So, “abc” and “ABC” are two different identifiers. \n",
    "\n",
    "\n",
    "Examples: \n",
    "ab10c:  Contains only letters and numbers\n",
    "abc_DE: Valid identifier\n",
    "_:  an  underscore is a valid identifier\n",
    "_abc:   Valid identifier\n",
    "char2 : valid identifier\n",
    "char_1 : valid indetifier"
   ]
  },
  {
   "cell_type": "raw",
   "id": "b244be17-366b-45e8-ad63-77e54df17149",
   "metadata": {},
   "source": [
    "Que : What are comments in Python, and why are they usefull Provide an examples\n",
    "\n",
    "Ans: \n",
    "Comments enhance the readability of the code and help the programmers to understand the code very carefully. It also helps in collaborating with other developers as adding comments makes it easier to explain the code.\n",
    "\n",
    " Single line Comments:\n",
    "# This is a single line comment\n",
    "\n",
    " Multiline Comments  -> \n",
    "# This is a multi line comment\n",
    "# This is a multi line comment\n",
    "\n",
    " multiline string ->\n",
    "\"\"\" \n",
    "This is a multi line comment\n",
    "to show example \n",
    "in python \"\"\""
   ]
  },
  {
   "cell_type": "raw",
   "id": "3041ef56-6a9a-4272-915d-2f61d22a9fa9",
   "metadata": {},
   "source": [
    "Que: Why is proper indentation important in Python\n",
    "\n",
    "Ans: \n",
    "\n",
    "Indentation refers to the spaces at the beginning of a code line. Indentation in Python is used to create a group of statements that are executed as a block. \n",
    "It uses to indicate a block of code. Python will give you an error when you skip an indentation. "
   ]
  },
  {
   "cell_type": "raw",
   "id": "f78fb84f-1a8c-4bec-8573-48b6782860dd",
   "metadata": {},
   "source": [
    "Que: What happens if indentation is incorrect in Python.\n",
    "\n",
    "Ans: \n",
    "    \n",
    "Without proper indentation in Python code, you will end up getting an Indentation Error and the code will not get compiled. Python is an interpreted language, its interpreter reads the code line by line. In Python, we have to write code that is appropriately formatted with perfect use of gaps to make the code error free. "
   ]
  },
  {
   "cell_type": "raw",
   "id": "bd096598-3cf6-484d-815a-b3fa0cc3d3a4",
   "metadata": {},
   "source": [
    "Que :  Differentiate between expression and statement in Python with examples\n",
    "\n",
    "Ans:\n",
    "    \n",
    "Expressions can be assigned or used as operands, while statements can only be declared.\n",
    "    \n",
    "Expressions are unique in meaning, while statements are two-sided in execution. For example, 1 has a certain value while go( ) may be executed or not.\n",
    "\n",
    "Expressions are the building blocks while statements are the whole structure. For example, a line or a block of code is a statement."
   ]
  },
  {
   "cell_type": "code",
   "execution_count": null,
   "id": "df068189-56d7-4e9d-ac4f-5b7b06df0e9b",
   "metadata": {},
   "outputs": [],
   "source": []
  },
  {
   "cell_type": "code",
   "execution_count": null,
   "id": "dbe4328e-14ec-41aa-8b47-e3cbeec6237c",
   "metadata": {},
   "outputs": [],
   "source": []
  }
 ],
 "metadata": {
  "kernelspec": {
   "display_name": "Python 3 (ipykernel)",
   "language": "python",
   "name": "python3"
  },
  "language_info": {
   "codemirror_mode": {
    "name": "ipython",
    "version": 3
   },
   "file_extension": ".py",
   "mimetype": "text/x-python",
   "name": "python",
   "nbconvert_exporter": "python",
   "pygments_lexer": "ipython3",
   "version": "3.10.8"
  }
 },
 "nbformat": 4,
 "nbformat_minor": 5
}
