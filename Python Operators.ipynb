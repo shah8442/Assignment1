{
 "cells": [
  {
   "cell_type": "raw",
   "id": "b21d9479-95e7-453b-afc5-845afc5943f6",
   "metadata": {},
   "source": [
    "Calculate the sum, difference, product, and quotient of two numbers\n",
    "\n",
    "Ans:\n",
    "\n",
    "x = 10\n",
    "y = 7\n",
    "Sum -> x + y = 17\n",
    "difference -> x - y = 3\n",
    "product -> x * y = 70\n",
    "\n",
    "qoutient ->  z = x//y\n",
    "            print(z) ------> qoutient 1"
   ]
  },
  {
   "cell_type": "code",
   "execution_count": 4,
   "id": "e27d1942-3c09-483b-b9f0-f72c74affbfd",
   "metadata": {},
   "outputs": [
    {
     "data": {
      "text/plain": [
       "17"
      ]
     },
     "execution_count": 4,
     "metadata": {},
     "output_type": "execute_result"
    }
   ],
   "source": [
    "x = 10\n",
    "y = 7\n",
    "\n",
    "x + y"
   ]
  },
  {
   "cell_type": "code",
   "execution_count": 6,
   "id": "9a499b4c-54ea-4811-9ba9-8d879b28631f",
   "metadata": {},
   "outputs": [
    {
     "data": {
      "text/plain": [
       "3"
      ]
     },
     "execution_count": 6,
     "metadata": {},
     "output_type": "execute_result"
    }
   ],
   "source": [
    "x = 10\n",
    "y = 7\n",
    "\n",
    "x - y"
   ]
  },
  {
   "cell_type": "code",
   "execution_count": 8,
   "id": "2f6454c1-9780-4154-a722-4a9504ed9e84",
   "metadata": {},
   "outputs": [
    {
     "data": {
      "text/plain": [
       "70"
      ]
     },
     "execution_count": 8,
     "metadata": {},
     "output_type": "execute_result"
    }
   ],
   "source": [
    "x = 10\n",
    "y = 7\n",
    "\n",
    "x * y"
   ]
  },
  {
   "cell_type": "code",
   "execution_count": 10,
   "id": "8035fc9a-522f-4c67-a735-25c9ea0e3e48",
   "metadata": {},
   "outputs": [
    {
     "data": {
      "text/plain": [
       "1"
      ]
     },
     "execution_count": 10,
     "metadata": {},
     "output_type": "execute_result"
    }
   ],
   "source": [
    "x = 10\n",
    "y = 7\n",
    "\n",
    "x // y"
   ]
  },
  {
   "cell_type": "raw",
   "id": "e60ca26d-bd82-4223-b72c-4a08056e9c87",
   "metadata": {},
   "source": [
    "Que : Perform various assignment operations on a variable\n",
    "\n",
    "Ans: when a = 10\n",
    "    a = 10 (=)\n",
    "    a += 5 (+=)\n",
    "    a -= 5 (-=)\n",
    "    a /= 3 (/+)"
   ]
  },
  {
   "cell_type": "code",
   "execution_count": 11,
   "id": "64cb8be1-8874-479b-b31d-baba43feb18b",
   "metadata": {},
   "outputs": [],
   "source": [
    "a = 10"
   ]
  },
  {
   "cell_type": "code",
   "execution_count": 12,
   "id": "de913957-53aa-49d2-aee9-9e1839aa1ea2",
   "metadata": {},
   "outputs": [
    {
     "data": {
      "text/plain": [
       "10"
      ]
     },
     "execution_count": 12,
     "metadata": {},
     "output_type": "execute_result"
    }
   ],
   "source": [
    "a"
   ]
  },
  {
   "cell_type": "code",
   "execution_count": 14,
   "id": "912daeb0-2071-4835-8b66-3211e4ddf302",
   "metadata": {},
   "outputs": [],
   "source": [
    "a += 5"
   ]
  },
  {
   "cell_type": "code",
   "execution_count": 15,
   "id": "36213722-d059-42c9-b591-8242cf029cff",
   "metadata": {},
   "outputs": [
    {
     "data": {
      "text/plain": [
       "20"
      ]
     },
     "execution_count": 15,
     "metadata": {},
     "output_type": "execute_result"
    }
   ],
   "source": [
    "a"
   ]
  },
  {
   "cell_type": "code",
   "execution_count": 16,
   "id": "c2c04ee0-5286-443e-a116-cdc3b4460a92",
   "metadata": {},
   "outputs": [],
   "source": [
    "a -= 5"
   ]
  },
  {
   "cell_type": "code",
   "execution_count": 17,
   "id": "a64ce070-f64d-4bce-806f-b91aa5a1b8dc",
   "metadata": {},
   "outputs": [
    {
     "data": {
      "text/plain": [
       "15"
      ]
     },
     "execution_count": 17,
     "metadata": {},
     "output_type": "execute_result"
    }
   ],
   "source": [
    "a"
   ]
  },
  {
   "cell_type": "code",
   "execution_count": 20,
   "id": "6d3a5dac-ebd6-4f44-bf75-2f73a6506a67",
   "metadata": {},
   "outputs": [],
   "source": [
    "a /= 3"
   ]
  },
  {
   "cell_type": "code",
   "execution_count": null,
   "id": "ff4e58c4-856f-4634-83f6-0263c7528e8f",
   "metadata": {},
   "outputs": [],
   "source": []
  },
  {
   "cell_type": "code",
   "execution_count": 21,
   "id": "91017165-3c16-4ace-b35e-f323d11d0f7d",
   "metadata": {},
   "outputs": [
    {
     "data": {
      "text/plain": [
       "1.0"
      ]
     },
     "execution_count": 21,
     "metadata": {},
     "output_type": "execute_result"
    }
   ],
   "source": [
    "a"
   ]
  },
  {
   "cell_type": "raw",
   "id": "4255a8dc-24d7-47a8-9f44-b3318627da4e",
   "metadata": {},
   "source": [
    "Que: Compare two numbers and print the results.\n",
    "\n",
    "Ans :\n",
    "\n",
    "comparison operators --> ==\n",
    "\n",
    "5 == 5 , Output - True\n",
    "a = 10\n",
    "b = 10 \n",
    "\n",
    "a == b , output --> True"
   ]
  },
  {
   "cell_type": "code",
   "execution_count": 22,
   "id": "35b75391-778d-49d1-8596-1eb1db38fa56",
   "metadata": {},
   "outputs": [
    {
     "data": {
      "text/plain": [
       "True"
      ]
     },
     "execution_count": 22,
     "metadata": {},
     "output_type": "execute_result"
    }
   ],
   "source": [
    "5 == 5"
   ]
  },
  {
   "cell_type": "code",
   "execution_count": 23,
   "id": "af612548-cb0e-4cbe-85cb-940241300729",
   "metadata": {},
   "outputs": [
    {
     "data": {
      "text/plain": [
       "True"
      ]
     },
     "execution_count": 23,
     "metadata": {},
     "output_type": "execute_result"
    }
   ],
   "source": [
    "a = 5\n",
    "b = 5\n",
    "\n",
    "a == b"
   ]
  },
  {
   "cell_type": "raw",
   "id": "8d39021e-0268-438e-a78c-f955d3d34c01",
   "metadata": {},
   "source": [
    "Que : Check conditions using logical operators.\n",
    "\n",
    "Ans :\n",
    "    and operator\n",
    "    or operator\n",
    "    not operator"
   ]
  },
  {
   "cell_type": "code",
   "execution_count": 25,
   "id": "832add3e-c758-4ed7-9f4a-4524654ab663",
   "metadata": {},
   "outputs": [
    {
     "data": {
      "text/plain": [
       "True"
      ]
     },
     "execution_count": 25,
     "metadata": {},
     "output_type": "execute_result"
    }
   ],
   "source": [
    "# and operator\n",
    "\n",
    "True and True "
   ]
  },
  {
   "cell_type": "code",
   "execution_count": 26,
   "id": "185a188f-cc4b-474c-886b-c14b65220854",
   "metadata": {},
   "outputs": [
    {
     "data": {
      "text/plain": [
       "False"
      ]
     },
     "execution_count": 26,
     "metadata": {},
     "output_type": "execute_result"
    }
   ],
   "source": [
    "True and False"
   ]
  },
  {
   "cell_type": "code",
   "execution_count": 27,
   "id": "1ef142d3-5295-4ea2-8a8a-3baa10add4bf",
   "metadata": {},
   "outputs": [
    {
     "data": {
      "text/plain": [
       "False"
      ]
     },
     "execution_count": 27,
     "metadata": {},
     "output_type": "execute_result"
    }
   ],
   "source": [
    "False and True"
   ]
  },
  {
   "cell_type": "code",
   "execution_count": 28,
   "id": "75997dfd-e4f5-4e0c-a093-4ac9724213af",
   "metadata": {},
   "outputs": [
    {
     "data": {
      "text/plain": [
       "False"
      ]
     },
     "execution_count": 28,
     "metadata": {},
     "output_type": "execute_result"
    }
   ],
   "source": [
    "False and False"
   ]
  },
  {
   "cell_type": "code",
   "execution_count": 29,
   "id": "60ed665f-9e90-46cb-9920-b1d8ece454c5",
   "metadata": {},
   "outputs": [
    {
     "data": {
      "text/plain": [
       "True"
      ]
     },
     "execution_count": 29,
     "metadata": {},
     "output_type": "execute_result"
    }
   ],
   "source": [
    "# or operator\n",
    "\n",
    "True or True"
   ]
  },
  {
   "cell_type": "code",
   "execution_count": 30,
   "id": "b5cedc82-499b-47b7-b74a-2189dd7fbc70",
   "metadata": {},
   "outputs": [
    {
     "data": {
      "text/plain": [
       "True"
      ]
     },
     "execution_count": 30,
     "metadata": {},
     "output_type": "execute_result"
    }
   ],
   "source": [
    "True or False"
   ]
  },
  {
   "cell_type": "code",
   "execution_count": 31,
   "id": "0b9d37b2-2563-4279-b794-d0943920f6e2",
   "metadata": {},
   "outputs": [
    {
     "data": {
      "text/plain": [
       "True"
      ]
     },
     "execution_count": 31,
     "metadata": {},
     "output_type": "execute_result"
    }
   ],
   "source": [
    "False or True"
   ]
  },
  {
   "cell_type": "raw",
   "id": "da7cc8a7-e77d-480d-8cfb-a5bf2e8a0324",
   "metadata": {},
   "source": [
    "False and False"
   ]
  },
  {
   "cell_type": "code",
   "execution_count": 33,
   "id": "4fde35b4-415a-4fa0-92cf-47b28daefd29",
   "metadata": {},
   "outputs": [
    {
     "data": {
      "text/plain": [
       "False"
      ]
     },
     "execution_count": 33,
     "metadata": {},
     "output_type": "execute_result"
    }
   ],
   "source": [
    "# not operator\n",
    "\n",
    "not True"
   ]
  },
  {
   "cell_type": "code",
   "execution_count": 34,
   "id": "a9059618-be2e-4a3d-8c25-daf328d55601",
   "metadata": {},
   "outputs": [
    {
     "data": {
      "text/plain": [
       "True"
      ]
     },
     "execution_count": 34,
     "metadata": {},
     "output_type": "execute_result"
    }
   ],
   "source": [
    "not False"
   ]
  },
  {
   "cell_type": "raw",
   "id": "21ac9d09-e331-42f3-b200-ea1eff9b9a23",
   "metadata": {},
   "source": [
    "Que : Check the identity of Variables.\n",
    "\n",
    "Ans :\n",
    "    a = 12\n",
    "    b = 9\n",
    "    a is b ---> False\n",
    "    \n",
    "    a = 6\n",
    "    b = 6\n",
    "    a is b --> True"
   ]
  },
  {
   "cell_type": "code",
   "execution_count": 38,
   "id": "ef22b049-c761-40aa-af3c-4b95acac93fe",
   "metadata": {},
   "outputs": [
    {
     "data": {
      "text/plain": [
       "False"
      ]
     },
     "execution_count": 38,
     "metadata": {},
     "output_type": "execute_result"
    }
   ],
   "source": [
    "a = 12\n",
    "b = 9  \n",
    "a is b"
   ]
  },
  {
   "cell_type": "code",
   "execution_count": 39,
   "id": "a1d2acea-2795-4492-9e61-180b3316c2dd",
   "metadata": {},
   "outputs": [
    {
     "data": {
      "text/plain": [
       "True"
      ]
     },
     "execution_count": 39,
     "metadata": {},
     "output_type": "execute_result"
    }
   ],
   "source": [
    "a = 6\n",
    "b = 6\n",
    "a is b"
   ]
  },
  {
   "cell_type": "raw",
   "id": "f3f988ac-617b-46cf-ba87-88c572f9aa68",
   "metadata": {},
   "source": [
    "Que: Perform bitwise operations on any two integers\n",
    "\n",
    "Ans:\n",
    "    "
   ]
  },
  {
   "cell_type": "code",
   "execution_count": 49,
   "id": "2b2a9c2a-ea66-4eb5-a08a-5335f9375268",
   "metadata": {},
   "outputs": [
    {
     "data": {
      "text/plain": [
       "0"
      ]
     },
     "execution_count": 49,
     "metadata": {},
     "output_type": "execute_result"
    }
   ],
   "source": [
    "10 & 5"
   ]
  },
  {
   "cell_type": "code",
   "execution_count": 50,
   "id": "be6596d8-be52-4a98-9f22-f8a3fbd890b3",
   "metadata": {},
   "outputs": [
    {
     "data": {
      "text/plain": [
       "2"
      ]
     },
     "execution_count": 50,
     "metadata": {},
     "output_type": "execute_result"
    }
   ],
   "source": [
    "10 & 2"
   ]
  },
  {
   "cell_type": "code",
   "execution_count": 51,
   "id": "339004ed-9423-4a24-aa60-d2ac05721230",
   "metadata": {},
   "outputs": [
    {
     "data": {
      "text/plain": [
       "'0b1010'"
      ]
     },
     "execution_count": 51,
     "metadata": {},
     "output_type": "execute_result"
    }
   ],
   "source": [
    "bin(10)"
   ]
  },
  {
   "cell_type": "code",
   "execution_count": 53,
   "id": "d863446e-2491-4913-a19b-eff7f563bf6f",
   "metadata": {
    "tags": []
   },
   "outputs": [
    {
     "data": {
      "text/plain": [
       "'0b101'"
      ]
     },
     "execution_count": 53,
     "metadata": {},
     "output_type": "execute_result"
    }
   ],
   "source": [
    "bin(5)"
   ]
  },
  {
   "cell_type": "code",
   "execution_count": 55,
   "id": "ef59ed7a-2464-4f2a-a761-8afbbc5817f0",
   "metadata": {},
   "outputs": [
    {
     "data": {
      "text/plain": [
       "-21"
      ]
     },
     "execution_count": 55,
     "metadata": {},
     "output_type": "execute_result"
    }
   ],
   "source": [
    "# negotion\n",
    "~20"
   ]
  },
  {
   "cell_type": "code",
   "execution_count": 56,
   "id": "f09399c9-e798-443e-bb48-7e401155262e",
   "metadata": {},
   "outputs": [
    {
     "data": {
      "text/plain": [
       "-6"
      ]
     },
     "execution_count": 56,
     "metadata": {},
     "output_type": "execute_result"
    }
   ],
   "source": [
    "~5"
   ]
  },
  {
   "cell_type": "code",
   "execution_count": 58,
   "id": "6b529e1f-80a0-46db-9c6a-2abac8a4e530",
   "metadata": {},
   "outputs": [
    {
     "data": {
      "text/plain": [
       "2"
      ]
     },
     "execution_count": 58,
     "metadata": {},
     "output_type": "execute_result"
    }
   ],
   "source": [
    "# bitwise xor\n",
    "\n",
    "7 ^ 5"
   ]
  },
  {
   "cell_type": "code",
   "execution_count": 60,
   "id": "63af2f64-9f19-4e55-b658-fa7a3b0c76b9",
   "metadata": {},
   "outputs": [
    {
     "data": {
      "text/plain": [
       "'0b111'"
      ]
     },
     "execution_count": 60,
     "metadata": {},
     "output_type": "execute_result"
    }
   ],
   "source": [
    "bin(7)"
   ]
  },
  {
   "cell_type": "code",
   "execution_count": 62,
   "id": "28939be4-e046-431d-a5d6-2b95ea60573d",
   "metadata": {},
   "outputs": [
    {
     "data": {
      "text/plain": [
       "'0b101'"
      ]
     },
     "execution_count": 62,
     "metadata": {},
     "output_type": "execute_result"
    }
   ],
   "source": [
    "bin(5)"
   ]
  },
  {
   "cell_type": "code",
   "execution_count": 63,
   "id": "3e128713-9997-45f4-81bb-b06a1c49a5ee",
   "metadata": {},
   "outputs": [
    {
     "data": {
      "text/plain": [
       "'0b10'"
      ]
     },
     "execution_count": 63,
     "metadata": {},
     "output_type": "execute_result"
    }
   ],
   "source": [
    "bin(2)"
   ]
  },
  {
   "cell_type": "raw",
   "id": "c7c3e995-fb25-44c2-8b1d-223cd66a2223",
   "metadata": {},
   "source": [
    "Que: Use unary operators to change the sign of a number.\n",
    "\n",
    "Ans : ( - , + )\n",
    "- operator changes the sign of any positive number to negative number. Ex below"
   ]
  },
  {
   "cell_type": "code",
   "execution_count": 4,
   "id": "659542e7-6d4c-4904-880b-d9d5fb86cbfe",
   "metadata": {},
   "outputs": [
    {
     "data": {
      "text/plain": [
       "-7"
      ]
     },
     "execution_count": 4,
     "metadata": {},
     "output_type": "execute_result"
    }
   ],
   "source": [
    "-2 - +5"
   ]
  },
  {
   "cell_type": "code",
   "execution_count": 5,
   "id": "c137668a-a68e-4b1e-bf6b-28aaf3d50b3f",
   "metadata": {},
   "outputs": [
    {
     "data": {
      "text/plain": [
       "3"
      ]
     },
     "execution_count": 5,
     "metadata": {},
     "output_type": "execute_result"
    }
   ],
   "source": [
    "+5 + -2"
   ]
  },
  {
   "cell_type": "raw",
   "id": "c2836677-526b-4459-95e9-a630e5f15a3f",
   "metadata": {},
   "source": [
    "Que : Use the ternary operator to assign Values based on condition\n",
    "\n",
    "Sol:\n",
    "x = 19\n",
    "message = 'Even' if x % 2 == 0 else 'Odd'\n",
    "print(message)    "
   ]
  },
  {
   "cell_type": "code",
   "execution_count": 2,
   "id": "135212ea-dd52-4b2e-8227-088c7dbf11ff",
   "metadata": {},
   "outputs": [
    {
     "name": "stdout",
     "output_type": "stream",
     "text": [
      "Odd\n"
     ]
    }
   ],
   "source": [
    "age = 19\n",
    "result = 'Even' if age % 2 == 0 else 'Odd'\n",
    "print(result)"
   ]
  },
  {
   "cell_type": "code",
   "execution_count": 3,
   "id": "c1ed91cd-8be8-408a-8a19-8a73fdc6e352",
   "metadata": {},
   "outputs": [
    {
     "name": "stdout",
     "output_type": "stream",
     "text": [
      "Even\n"
     ]
    }
   ],
   "source": [
    "age = 20\n",
    "result = 'Even' if age % 2 == 0 else 'Odd'\n",
    "print(result)"
   ]
  },
  {
   "cell_type": "code",
   "execution_count": null,
   "id": "42e02e66-aa27-4e96-b144-4c4a1cf2bce8",
   "metadata": {},
   "outputs": [],
   "source": []
  }
 ],
 "metadata": {
  "kernelspec": {
   "display_name": "Python 3 (ipykernel)",
   "language": "python",
   "name": "python3"
  },
  "language_info": {
   "codemirror_mode": {
    "name": "ipython",
    "version": 3
   },
   "file_extension": ".py",
   "mimetype": "text/x-python",
   "name": "python",
   "nbconvert_exporter": "python",
   "pygments_lexer": "ipython3",
   "version": "3.10.8"
  }
 },
 "nbformat": 4,
 "nbformat_minor": 5
}
