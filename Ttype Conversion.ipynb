{
 "cells": [
  {
   "cell_type": "raw",
   "id": "2095ba39-6484-44c8-a6ac-943cb42f584d",
   "metadata": {},
   "source": [
    "Que : Convert an integer to a floating-point number\n",
    "\n",
    "Ans -\n",
    "\n",
    "            a = 100\n",
    "convert -> a = float(a)"
   ]
  },
  {
   "cell_type": "code",
   "execution_count": 3,
   "id": "a8ec2d9e-2979-41a0-a47c-317542184c04",
   "metadata": {},
   "outputs": [],
   "source": [
    "a = 100\n",
    "a = float(a)"
   ]
  },
  {
   "cell_type": "code",
   "execution_count": 4,
   "id": "3a442fc2-7e03-4d67-a5e9-4f768af8fa7c",
   "metadata": {},
   "outputs": [
    {
     "data": {
      "text/plain": [
       "float"
      ]
     },
     "execution_count": 4,
     "metadata": {},
     "output_type": "execute_result"
    }
   ],
   "source": [
    "type(a)"
   ]
  },
  {
   "cell_type": "raw",
   "id": "b03dbdcf-c19e-4835-af17-e9ab8dfcd61a",
   "metadata": {},
   "source": [
    "Que : Convert a float to an integer\n",
    "\n",
    "Ans:\n",
    "\n",
    "b = 33.5\n",
    "b = int(33.5)\n",
    "\n",
    "or\n",
    "\n",
    "\n",
    "b = 33.5\n",
    "b = int(b)"
   ]
  },
  {
   "cell_type": "code",
   "execution_count": 6,
   "id": "6d914ca6-81f8-4b94-a1de-f0d5cf906a8f",
   "metadata": {},
   "outputs": [
    {
     "data": {
      "text/plain": [
       "int"
      ]
     },
     "execution_count": 6,
     "metadata": {},
     "output_type": "execute_result"
    }
   ],
   "source": [
    "b = 33.5\n",
    "b = int(33.5)\n",
    "type(b)"
   ]
  },
  {
   "cell_type": "code",
   "execution_count": 7,
   "id": "9975d86d-565d-4332-a738-262a3b9fbd83",
   "metadata": {},
   "outputs": [
    {
     "data": {
      "text/plain": [
       "int"
      ]
     },
     "execution_count": 7,
     "metadata": {},
     "output_type": "execute_result"
    }
   ],
   "source": [
    "b = 33.5\n",
    "b = int(b)\n",
    "type(b)"
   ]
  },
  {
   "cell_type": "raw",
   "id": "0ec40073-e218-4ccf-b58f-3f66f9a8e20d",
   "metadata": {},
   "source": [
    "Que :  Convert an integer to a string\n",
    "\n",
    "Ans:\n",
    "\n",
    "b = 50\n",
    "b = str(b)"
   ]
  },
  {
   "cell_type": "code",
   "execution_count": 9,
   "id": "f2de7680-2ce8-4867-93f4-97bcc63968a7",
   "metadata": {},
   "outputs": [
    {
     "data": {
      "text/plain": [
       "str"
      ]
     },
     "execution_count": 9,
     "metadata": {},
     "output_type": "execute_result"
    }
   ],
   "source": [
    "b = 50\n",
    "b = str(b)\n",
    "type(b)"
   ]
  },
  {
   "cell_type": "code",
   "execution_count": 10,
   "id": "c1f9fa28-86f5-4df9-9d90-0ac707f63374",
   "metadata": {},
   "outputs": [
    {
     "data": {
      "text/plain": [
       "'50'"
      ]
     },
     "execution_count": 10,
     "metadata": {},
     "output_type": "execute_result"
    }
   ],
   "source": [
    "b"
   ]
  },
  {
   "cell_type": "raw",
   "id": "b4fce84d-133a-4f97-a9fe-9dadbd8706d8",
   "metadata": {},
   "source": [
    "Que : Convert a list to a tuple.\n",
    "\n",
    "Ans:\n",
    "\n",
    "            a = [1,2,3,4]\n",
    "Convert -> a = tuple(a)"
   ]
  },
  {
   "cell_type": "code",
   "execution_count": 11,
   "id": "39562af5-719f-4cf4-8a5f-56e0958f6187",
   "metadata": {},
   "outputs": [
    {
     "data": {
      "text/plain": [
       "(1, 2, 3, 4)"
      ]
     },
     "execution_count": 11,
     "metadata": {},
     "output_type": "execute_result"
    }
   ],
   "source": [
    "a = [1,2,3,4]\n",
    "a = tuple(a)\n",
    "a"
   ]
  },
  {
   "cell_type": "raw",
   "id": "fc0db6fc-c6b1-48f7-8b4d-0e2c7622eecc",
   "metadata": {},
   "source": [
    "Que : Convert a tuple to a list\n",
    "\n",
    "Ans:\n",
    "        x = (5,6,7,8)\n",
    "        \n",
    "       Convert->  x = list(x)\n"
   ]
  },
  {
   "cell_type": "code",
   "execution_count": 13,
   "id": "ec0039b7-49bb-4dbf-9249-541c38df89d0",
   "metadata": {},
   "outputs": [
    {
     "data": {
      "text/plain": [
       "([5, 6, 7, 8], list)"
      ]
     },
     "execution_count": 13,
     "metadata": {},
     "output_type": "execute_result"
    }
   ],
   "source": [
    "x = (5,6,7,8)\n",
    "x = list(x)\n",
    "x , type(x)"
   ]
  },
  {
   "cell_type": "raw",
   "id": "24531868-8a0a-48a7-86c0-cb5818883244",
   "metadata": {},
   "source": [
    "Que : Convert a decimal number to binary\n",
    "\n",
    "Ans:\n",
    "    \n",
    "   decimal = 100\n",
    "print(bin(decimal)[2:])"
   ]
  },
  {
   "cell_type": "code",
   "execution_count": 17,
   "id": "4fde2ff8-604d-4763-aad5-4e4ff41085d1",
   "metadata": {},
   "outputs": [
    {
     "name": "stdout",
     "output_type": "stream",
     "text": [
      "1100100\n"
     ]
    }
   ],
   "source": [
    "decimal = 100\n",
    "print(bin(decimal)[2:])"
   ]
  },
  {
   "cell_type": "code",
   "execution_count": 18,
   "id": "08897408-5411-43c6-950d-b66deb16d3e0",
   "metadata": {},
   "outputs": [
    {
     "name": "stdout",
     "output_type": "stream",
     "text": [
      "1101111\n"
     ]
    }
   ],
   "source": [
    "decimal = 111\n",
    "print(bin(decimal)[2:])"
   ]
  },
  {
   "cell_type": "raw",
   "id": "841c3bc5-7bb2-41c1-abea-b5f324223a3e",
   "metadata": {},
   "source": [
    "Que : Convert a non-zero number to boolean\n",
    "\n",
    "Ans:\n",
    "    \n",
    "    m = 100\n",
    "n = 0\n",
    "\n",
    "print(bool(m))\n",
    "print(bool(n))"
   ]
  },
  {
   "cell_type": "code",
   "execution_count": null,
   "id": "0f8cc5a8-ae75-4e5f-8a61-13dc4589c039",
   "metadata": {},
   "outputs": [],
   "source": [
    "m = 100\n",
    "n = 0\n",
    "\n",
    "print(bool(m))\n",
    "print(bool(n))"
   ]
  }
 ],
 "metadata": {
  "kernelspec": {
   "display_name": "Python 3 (ipykernel)",
   "language": "python",
   "name": "python3"
  },
  "language_info": {
   "codemirror_mode": {
    "name": "ipython",
    "version": 3
   },
   "file_extension": ".py",
   "mimetype": "text/x-python",
   "name": "python",
   "nbconvert_exporter": "python",
   "pygments_lexer": "ipython3",
   "version": "3.10.8"
  }
 },
 "nbformat": 4,
 "nbformat_minor": 5
}
